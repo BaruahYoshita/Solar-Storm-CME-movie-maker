{
 "cells": [
  {
   "cell_type": "code",
   "execution_count": 70,
   "id": "aac0a2c2-4dd2-4d95-a73d-5ff7d869defc",
   "metadata": {},
   "outputs": [],
   "source": [
    "import warnings\n",
    "warnings.filterwarnings(action='ignore')\n",
    "from sunpy.net import Fido\n",
    "from sunpy.net import attrs as a\n",
    "import sunpy.map as m\n",
    "import matplotlib.pyplot as plt\n",
    "import astropy.units as u\n",
    "from astropy.time import Time\n",
    "import os\n",
    "import glob as g\n",
    "from PIL import Image"
   ]
  },
  {
   "cell_type": "code",
   "execution_count": 95,
   "id": "f1110b36-4c1d-4237-8b0e-b05e9664af4b",
   "metadata": {},
   "outputs": [],
   "source": [
    "def make_gif(Start_Time, End_Time, Coronagraph, Cadence, path, Duration):\n",
    "    \"\"\"Downloading image data\"\"\"\n",
    "    if Coronagraph == 'c2':\n",
    "        result = Fido.search(a.Time(Start_Time, End_Time), a.Instrument.lasco, a.Detector.c2, a.Sample(Cadence*u.minute))\n",
    "    else:\n",
    "        result = Fido.search(a.Time(Start_Time, End_Time), a.Instrument.lasco, a.Detector.c3, a.Sample(Cadence*u.minute))\n",
    "        \n",
    "    file_path= path + '\\\\LASCO_raw_files'\n",
    "    if not os.path.isdir(file_path):\n",
    "        os.mkdir(file_path)\n",
    "\n",
    "    data_path = file_path + '\\\\{file}'\n",
    "    data = Fido.fetch(result,path= data_path)\n",
    "    file = sorted(g.glob(file_path + '\\\\*.fts'))\n",
    "\n",
    "    \n",
    "    \"\"\"Plotting images\"\"\"\n",
    "    image_path = path + '\\\\LASCO_Images'\n",
    "    if not os.path.isdir(image_path):\n",
    "        os.mkdir(image_path)\n",
    "\n",
    "    if Coronagraph == \"c2\":\n",
    "        cmap = \"soholasco2\"\n",
    "    else:\n",
    "        cmap = \"soholasco3\"\n",
    "        \n",
    "    background_data=m.Map(file[0])\n",
    "    if background_data.data.shape !=[1024,1024]:\n",
    "        background_data = background_data.resample([512,512]*u.pixel)\n",
    "        \n",
    "    for i in range(1, len(file)):\n",
    "        lasco=m.Map(file[i])\n",
    "        date=lasco.meta['date-obs']\n",
    "        time=lasco.meta['time-obs']\n",
    "    \n",
    "        if lasco.data.shape !=[1024,1024]:\n",
    "            lasco=lasco.resample([512,512]*u.pixel)\n",
    "            \n",
    "        data=lasco.data-background_data.data\n",
    "        image=m.Map(data,lasco.meta)\n",
    "        date=image.meta['date-obs']\n",
    "        time=image.meta['time-obs']\n",
    "\n",
    "        fig=plt.figure(figsize=[5,5])\n",
    "        image.cmap.set_bad('black')\n",
    "        image.plot(annotate=False,clip_interval=[10,99.5]*u.percent, cmap=cmap)\n",
    "        plt.text(30,30,'LASCO' + Coronagraph + date + ' ' + time,color= 'white',fontsize=14)\n",
    "        image.draw_limb()\n",
    "        plt.axis('off')\n",
    "        plt.savefig(image_path + '\\\\lasco_{}.jpg'.format(i), dpi=300,bbox_inches='tight',pad_inches=0.0)\n",
    "        plt.close(fig)\n",
    "\n",
    "\n",
    "    \"\"\"Creating GIF\"\"\"\n",
    "    output_path = path + \"\\\\gif\"\n",
    "    if not os.path.isdir(output_path):\n",
    "        os.mkdir(output_path)\n",
    "    image = sorted(g.glob(image_path + '\\\\*.jpg'))\n",
    "    img = [Image.open(file) for file in image]\n",
    "    img[0].save(output_path + \"\\\\CME.gif\", save_all=True, append_images=img[1:], duration=10, loop=0) \n",
    "\n",
    "    return print(\"\\033[1mFind your gif in \\033[0m\" + output_path + \"\\033[1m  :D\\033[0m\")\n",
    "    "
   ]
  },
  {
   "cell_type": "code",
   "execution_count": 97,
   "id": "a9111a1b-6de2-4816-b1e6-424b8acb45c2",
   "metadata": {},
   "outputs": [
    {
     "name": "stdin",
     "output_type": "stream",
     "text": [
      "Start Time : 2015/04/02 05:20\n",
      "End_Time: 2015/04/02 06:38\n",
      "c2 or c3?  c2\n",
      "Cadence of images in mins:  24\n",
      "Output path (do not include parenthesis):  C:\\Users\\ybaru\\OneDrive\\Desktop\\trial\n",
      "Duration of gif:  10\n"
     ]
    }
   ],
   "source": [
    "Start_Time = input(\"Start Time :\")\n",
    "End_Time = input(\"End_Time:\")\n",
    "Coronagraph = input(\"c2 or c3? \").lower()\n",
    "Cadence = int(input(\"Cadence of images in mins: \"))\n",
    "Path = input(\"Output path (do not include parenthesis): \")\n",
    "Duration = input(\"Duration of gif: \")"
   ]
  },
  {
   "cell_type": "code",
   "execution_count": 98,
   "id": "a063af52-4afd-482b-aeec-ab1975592457",
   "metadata": {},
   "outputs": [
    {
     "data": {
      "application/vnd.jupyter.widget-view+json": {
       "model_id": "806ebf88c7244c23b3c42c9218dc3784",
       "version_major": 2,
       "version_minor": 0
      },
      "text/plain": [
       "Files Downloaded:   0%|          | 0/4 [00:00<?, ?file/s]"
      ]
     },
     "metadata": {},
     "output_type": "display_data"
    },
    {
     "name": "stdout",
     "output_type": "stream",
     "text": [
      "INFO: Missing metadata for solar radius: assuming the standard radius of the photosphere. [sunpy.map.mapbase]\n",
      "INFO: Missing metadata for solar radius: assuming the standard radius of the photosphere. [sunpy.map.mapbase]\n",
      "INFO: Missing metadata for solar radius: assuming the standard radius of the photosphere. [sunpy.map.mapbase]\n",
      "INFO: Missing metadata for solar radius: assuming the standard radius of the photosphere. [sunpy.map.mapbase]\n",
      "INFO: Missing metadata for solar radius: assuming the standard radius of the photosphere. [sunpy.map.mapbase]\n",
      "INFO: Missing metadata for solar radius: assuming the standard radius of the photosphere. [sunpy.map.mapbase]\n",
      "INFO: Missing metadata for solar radius: assuming the standard radius of the photosphere. [sunpy.map.mapbase]\n",
      "INFO: Missing metadata for solar radius: assuming the standard radius of the photosphere. [sunpy.map.mapbase]\n",
      "INFO: Missing metadata for solar radius: assuming the standard radius of the photosphere. [sunpy.map.mapbase]\n",
      "INFO: Missing metadata for solar radius: assuming the standard radius of the photosphere. [sunpy.map.mapbase]\n",
      "INFO: Missing metadata for solar radius: assuming the standard radius of the photosphere. [sunpy.map.mapbase]\n",
      "INFO: Missing metadata for solar radius: assuming the standard radius of the photosphere. [sunpy.map.mapbase]\n",
      "INFO: Missing metadata for solar radius: assuming the standard radius of the photosphere. [sunpy.map.mapbase]\n",
      "INFO: Missing metadata for solar radius: assuming the standard radius of the photosphere. [sunpy.map.mapbase]\n",
      "INFO: Missing metadata for solar radius: assuming the standard radius of the photosphere. [sunpy.map.mapbase]\n",
      "INFO: Missing metadata for solar radius: assuming the standard radius of the photosphere. [sunpy.map.mapbase]\n",
      "INFO: Missing metadata for solar radius: assuming the standard radius of the photosphere. [sunpy.map.mapbase]\n",
      "INFO: Missing metadata for solar radius: assuming the standard radius of the photosphere. [sunpy.map.mapbase]\n",
      "INFO: Missing metadata for solar radius: assuming the standard radius of the photosphere. [sunpy.map.mapbase]\n",
      "INFO: Missing metadata for solar radius: assuming the standard radius of the photosphere. [sunpy.map.mapbase]\n",
      "INFO: Missing metadata for solar radius: assuming the standard radius of the photosphere. [sunpy.map.mapbase]\n",
      "INFO: Missing metadata for solar radius: assuming the standard radius of the photosphere. [sunpy.map.mapbase]\n",
      "INFO: Missing metadata for solar radius: assuming the standard radius of the photosphere. [sunpy.map.mapbase]\n",
      "INFO: Missing metadata for solar radius: assuming the standard radius of the photosphere. [sunpy.map.mapbase]\n",
      "\u001b[1mFind your gif in \u001b[0mC:\\Users\\ybaru\\OneDrive\\Desktop\\trial\\gif\u001b[1m  :D\u001b[0m\n"
     ]
    }
   ],
   "source": [
    "make_gif(Start_Time, End_Time, Coronagraph, Cadence, Path, Duration)"
   ]
  }
 ],
 "metadata": {
  "kernelspec": {
   "display_name": "Python 3 (ipykernel)",
   "language": "python",
   "name": "python3"
  },
  "language_info": {
   "codemirror_mode": {
    "name": "ipython",
    "version": 3
   },
   "file_extension": ".py",
   "mimetype": "text/x-python",
   "name": "python",
   "nbconvert_exporter": "python",
   "pygments_lexer": "ipython3",
   "version": "3.11.7"
  }
 },
 "nbformat": 4,
 "nbformat_minor": 5
}
